{
  "nbformat": 4,
  "nbformat_minor": 0,
  "metadata": {
    "colab": {
      "provenance": [],
      "gpuType": "A100",
      "include_colab_link": true
    },
    "kernelspec": {
      "name": "python3",
      "display_name": "Python 3"
    },
    "language_info": {
      "name": "python"
    },
    "accelerator": "GPU"
  },
  "cells": [
    {
      "cell_type": "markdown",
      "metadata": {
        "id": "view-in-github",
        "colab_type": "text"
      },
      "source": [
        "<a href=\"https://colab.research.google.com/github/nekoniii3/text-generation-webui/blob/main/colabfile/text_generation_webui_weblab_10b.ipynb\" target=\"_parent\"><img src=\"https://colab.research.google.com/assets/colab-badge.svg\" alt=\"Open In Colab\"/></a>"
      ]
    },
    {
      "cell_type": "markdown",
      "metadata": {
        "id": "82v8VxH4RfdB"
      },
      "source": [
        "### **⓪最初にランタイムのタイプをGPUに変更して下さい**\n",
        "### **※StableLMはA100でないと動作しない可能性があります**"
      ]
    },
    {
      "cell_type": "markdown",
      "metadata": {
        "id": "-7WSRjWFPEvB"
      },
      "source": [
        "### **①text-generation-webui取得**\n"
      ]
    },
    {
      "cell_type": "code",
      "execution_count": null,
      "metadata": {
        "id": "YPIBpFqE1loZ"
      },
      "outputs": [],
      "source": [
        "!apt-get -y install -qq aria2\n",
        "\n",
        "!git clone https://github.com/oobabooga/text-generation-webui\n",
        "\n",
        "%cd /content/text-generation-webui\n",
        "!pip install -r requirements.txt"
      ]
    },
    {
      "cell_type": "markdown",
      "metadata": {
        "id": "8XFubQfcPV27"
      },
      "source": [
        "### **②weblab-10bLMモデルファイル取得**\n"
      ]
    },
    {
      "cell_type": "code",
      "source": [
        "!aria2c --console-log-level=error -c -x 16 -s 16 -k 1M https://huggingface.co/matsuo-lab/weblab-10b/resolve/main/config.json -d /content/text-generation-webui/models/weblab-10b -o config.json\n",
        "!aria2c --console-log-level=error -c -x 16 -s 16 -k 1M https://huggingface.co/matsuo-lab/weblab-10b/resolve/main/generation_config.json -d /content/text-generation-webui/models/weblab-10b -o generation_config.json\n",
        "!aria2c --console-log-level=error -c -x 16 -s 16 -k 1M https://huggingface.co/matsuo-lab/weblab-10b/resolve/main/pytorch_model-00001-of-00003.bin -d /content/text-generation-webui/models/weblab-10b -o pytorch_model-00001-of-00003.bin\n",
        "!aria2c --console-log-level=error -c -x 16 -s 16 -k 1M https://huggingface.co/matsuo-lab/weblab-10b/resolve/main/pytorch_model-00002-of-00003.bin -d /content/text-generation-webui/models/weblab-10b -o pytorch_model-00002-of-00003.bin\n",
        "!aria2c --console-log-level=error -c -x 16 -s 16 -k 1M https://huggingface.co/matsuo-lab/weblab-10b/resolve/main/pytorch_model-00003-of-00003.bin -d /content/text-generation-webui/models/weblab-10b -o pytorch_model-00003-of-00003.bin\n",
        "!aria2c --console-log-level=error -c -x 16 -s 16 -k 1M https://huggingface.co/matsuo-lab/weblab-10b/resolve/main/pytorch_model.bin.index.json -d /content/text-generation-webui/models/weblab-10b -o pytorch_model.bin.index.json\n",
        "# special_tokens_map.jsonが空なのでopen-calmのものを取得\n",
        "# !aria2c --console-log-level=error -c -x 16 -s 16 -k 1M https://huggingface.co/matsuo-lab/weblab-10b/resolve/main/special_tokens_map.json -d /content/text-generation-webui/models/weblab-10b -o special_tokens_map.json\n",
        "!aria2c --console-log-level=error -c -x 16 -s 16 -k 1M https://huggingface.co/cyberagent/open-calm-7b/resolve/main/special_tokens_map.json -d /content/text-generation-webui/models/weblab-10b -o special_tokens_map.json\n",
        "!aria2c --console-log-level=error -c -x 16 -s 16 -k 1M https://huggingface.co/matsuo-lab/weblab-10b/resolve/main/tokenizer.json -d /content/text-generation-webui/models/weblab-10b -o tokenizer.json\n",
        "!aria2c --console-log-level=error -c -x 16 -s 16 -k 1M https://huggingface.co/matsuo-lab/weblab-10b/resolve/main/tokenizer_config.json -d /content/text-generation-webui/models/weblab-10b -o tokenizer_config.json\n"
      ],
      "metadata": {
        "id": "TCQ7sD_o14kP"
      },
      "execution_count": null,
      "outputs": []
    },
    {
      "cell_type": "markdown",
      "metadata": {
        "id": "I3Ov81Q_Pscj"
      },
      "source": [
        "### **③WebUI起動**\n"
      ]
    },
    {
      "cell_type": "code",
      "source": [
        "%cd /content/text-generation-webui\n",
        "\n",
        "!python server.py --share --chat --model weblab-10b"
      ],
      "metadata": {
        "id": "m2mmYh2I2Uez"
      },
      "execution_count": null,
      "outputs": []
    }
  ]
}