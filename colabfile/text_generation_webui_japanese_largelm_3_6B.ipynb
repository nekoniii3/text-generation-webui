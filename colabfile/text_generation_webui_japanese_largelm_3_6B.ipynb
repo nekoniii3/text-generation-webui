{
  "nbformat": 4,
  "nbformat_minor": 0,
  "metadata": {
    "colab": {
      "provenance": [],
      "gpuType": "T4",
      "include_colab_link": true
    },
    "kernelspec": {
      "name": "python3",
      "display_name": "Python 3"
    },
    "language_info": {
      "name": "python"
    },
    "accelerator": "GPU"
  },
  "cells": [
    {
      "cell_type": "markdown",
      "metadata": {
        "id": "view-in-github",
        "colab_type": "text"
      },
      "source": [
        "<a href=\"https://colab.research.google.com/github/nekoniii3/text-generation-webui/blob/main/colabfile/text_generation_webui_japanese_largelm_3_6B.ipynb\" target=\"_parent\"><img src=\"https://colab.research.google.com/assets/colab-badge.svg\" alt=\"Open In Colab\"/></a>"
      ]
    },
    {
      "cell_type": "markdown",
      "metadata": {
        "id": "82v8VxH4RfdB"
      },
      "source": [
        "### **⓪最初にランタイムのタイプをGPUに変更して下さい**"
      ]
    },
    {
      "cell_type": "markdown",
      "metadata": {
        "id": "-7WSRjWFPEvB"
      },
      "source": [
        "### **①text-generation-webui取得**\n"
      ]
    },
    {
      "cell_type": "code",
      "execution_count": 1,
      "metadata": {
        "id": "YPIBpFqE1loZ",
        "colab": {
          "base_uri": "https://localhost:8080/"
        },
        "outputId": "b81124d6-c8df-4315-91e9-f51fd169d85f"
      },
      "outputs": [
        {
          "output_type": "stream",
          "name": "stdout",
          "text": [
            "Selecting previously unselected package libc-ares2:amd64.\n",
            "(Reading database ... 120831 files and directories currently installed.)\n",
            "Preparing to unpack .../libc-ares2_1.18.1-1ubuntu0.22.04.2_amd64.deb ...\n",
            "Unpacking libc-ares2:amd64 (1.18.1-1ubuntu0.22.04.2) ...\n",
            "Selecting previously unselected package libaria2-0:amd64.\n",
            "Preparing to unpack .../libaria2-0_1.36.0-1_amd64.deb ...\n",
            "Unpacking libaria2-0:amd64 (1.36.0-1) ...\n",
            "Selecting previously unselected package aria2.\n",
            "Preparing to unpack .../aria2_1.36.0-1_amd64.deb ...\n",
            "Unpacking aria2 (1.36.0-1) ...\n",
            "Setting up libc-ares2:amd64 (1.18.1-1ubuntu0.22.04.2) ...\n",
            "Setting up libaria2-0:amd64 (1.36.0-1) ...\n",
            "Setting up aria2 (1.36.0-1) ...\n",
            "Processing triggers for man-db (2.10.2-1) ...\n",
            "Processing triggers for libc-bin (2.35-0ubuntu3.1) ...\n",
            "/sbin/ldconfig.real: /usr/local/lib/libtbbbind_2_0.so.3 is not a symbolic link\n",
            "\n",
            "/sbin/ldconfig.real: /usr/local/lib/libtbbbind.so.3 is not a symbolic link\n",
            "\n",
            "/sbin/ldconfig.real: /usr/local/lib/libtbb.so.12 is not a symbolic link\n",
            "\n",
            "/sbin/ldconfig.real: /usr/local/lib/libtbbmalloc.so.2 is not a symbolic link\n",
            "\n",
            "/sbin/ldconfig.real: /usr/local/lib/libtbbmalloc_proxy.so.2 is not a symbolic link\n",
            "\n",
            "/sbin/ldconfig.real: /usr/local/lib/libtbbbind_2_5.so.3 is not a symbolic link\n",
            "\n",
            "Cloning into 'text-generation-webui'...\n",
            "remote: Enumerating objects: 10606, done.\u001b[K\n",
            "remote: Counting objects: 100% (10606/10606), done.\u001b[K\n",
            "remote: Compressing objects: 100% (3333/3333), done.\u001b[K\n",
            "remote: Total 10606 (delta 7253), reused 10347 (delta 7127), pack-reused 0\u001b[K\n",
            "Receiving objects: 100% (10606/10606), 3.47 MiB | 17.85 MiB/s, done.\n",
            "Resolving deltas: 100% (7253/7253), done.\n",
            "/content/text-generation-webui\n",
            "Collecting git+https://github.com/huggingface/peft@96c0277a1b9a381b10ab34dbf84917f9b3b992e6 (from -r requirements.txt (line 23))\n",
            "  Cloning https://github.com/huggingface/peft (to revision 96c0277a1b9a381b10ab34dbf84917f9b3b992e6) to /tmp/pip-req-build-11ylq7cv\n",
            "  Running command git clone --filter=blob:none --quiet https://github.com/huggingface/peft /tmp/pip-req-build-11ylq7cv\n",
            "  Running command git rev-parse -q --verify 'sha^96c0277a1b9a381b10ab34dbf84917f9b3b992e6'\n",
            "  Running command git fetch -q https://github.com/huggingface/peft 96c0277a1b9a381b10ab34dbf84917f9b3b992e6\n",
            "  Running command git checkout -q 96c0277a1b9a381b10ab34dbf84917f9b3b992e6\n",
            "  Resolved https://github.com/huggingface/peft to commit 96c0277a1b9a381b10ab34dbf84917f9b3b992e6\n",
            "  Installing build dependencies ... \u001b[?25l\u001b[?25hdone\n",
            "  Getting requirements to build wheel ... \u001b[?25l\u001b[?25hdone\n",
            "  Preparing metadata (pyproject.toml) ... \u001b[?25l\u001b[?25hdone\n",
            "Collecting git+https://github.com/huggingface/transformers@baf1daa58eb2960248fd9f7c3af0ed245b8ce4af (from -r requirements.txt (line 24))\n",
            "  Cloning https://github.com/huggingface/transformers (to revision baf1daa58eb2960248fd9f7c3af0ed245b8ce4af) to /tmp/pip-req-build-gmujal2p\n",
            "  Running command git clone --filter=blob:none --quiet https://github.com/huggingface/transformers /tmp/pip-req-build-gmujal2p\n",
            "  Running command git rev-parse -q --verify 'sha^baf1daa58eb2960248fd9f7c3af0ed245b8ce4af'\n",
            "  Running command git fetch -q https://github.com/huggingface/transformers baf1daa58eb2960248fd9f7c3af0ed245b8ce4af\n",
            "  Running command git checkout -q baf1daa58eb2960248fd9f7c3af0ed245b8ce4af\n",
            "  Resolved https://github.com/huggingface/transformers to commit baf1daa58eb2960248fd9f7c3af0ed245b8ce4af\n",
            "  Installing build dependencies ... \u001b[?25l\u001b[?25hcanceled\n",
            "\u001b[31mERROR: Operation cancelled by user\u001b[0m\u001b[31m\n",
            "\u001b[0m"
          ]
        }
      ],
      "source": [
        "!apt-get -y install -qq aria2\n",
        "\n",
        "!git clone https://github.com/oobabooga/text-generation-webui\n",
        "%cd /content/text-generation-webui\n",
        "!pip install -r requirements.txt"
      ]
    },
    {
      "cell_type": "markdown",
      "metadata": {
        "id": "8XFubQfcPV27"
      },
      "source": [
        "### **②JapaneseStableLMモデルファイル取得**\n"
      ]
    },
    {
      "cell_type": "code",
      "source": [
        "!aria2c --console-log-level=error -c -x 16 -s 16 -k 1M https://huggingface.co/line-corporation/japanese-large-lm-3.6b/resolve/main/config.json -d /content/text-generation-webui/models/japanese-large-lm3.6B -o config.json\n",
        "!aria2c --console-log-level=error -c -x 16 -s 16 -k 1M https://huggingface.co/line-corporation/japanese-large-lm-3.6b/resolve/main/tokenizer_config.json -d /content/text-generation-webui/models/japanese-large-lm3.6B -o tokenizer_config.json\n",
        "!aria2c --console-log-level=error -c -x 16 -s 16 -k 1M https://huggingface.co/line-corporation/japanese-large-lm-3.6b/resolve/main/pytorch_model.bin -d /content/text-generation-webui/models/japanese-large-lm3.6B -o pytorch_model.bin\n",
        "!aria2c --console-log-level=error -c -x 16 -s 16 -k 1M https://huggingface.co/line-corporation/japanese-large-lm-3.6b/resolve/main/spiece.model -d /content/text-generation-webui/models/japanese-large-lm3.6B -o spiece.model\n"
      ],
      "metadata": {
        "id": "TCQ7sD_o14kP"
      },
      "execution_count": null,
      "outputs": []
    },
    {
      "cell_type": "markdown",
      "metadata": {
        "id": "I3Ov81Q_Pscj"
      },
      "source": [
        "### **③WebUI起動**\n"
      ]
    },
    {
      "cell_type": "code",
      "source": [
        "!python server.py --share --chat --model japanese-large-lm3.6B"
      ],
      "metadata": {
        "id": "m2mmYh2I2Uez"
      },
      "execution_count": null,
      "outputs": []
    }
  ]
}