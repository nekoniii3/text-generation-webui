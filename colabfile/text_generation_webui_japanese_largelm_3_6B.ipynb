{
  "nbformat": 4,
  "nbformat_minor": 0,
  "metadata": {
    "colab": {
      "provenance": [],
      "gpuType": "T4",
      "include_colab_link": true
    },
    "kernelspec": {
      "name": "python3",
      "display_name": "Python 3"
    },
    "language_info": {
      "name": "python"
    },
    "accelerator": "GPU"
  },
  "cells": [
    {
      "cell_type": "markdown",
      "metadata": {
        "id": "view-in-github",
        "colab_type": "text"
      },
      "source": [
        "<a href=\"https://colab.research.google.com/github/nekoniii3/text-generation-webui/blob/main/colabfile/text_generation_webui_japanese_largelm_3_6B.ipynb\" target=\"_parent\"><img src=\"https://colab.research.google.com/assets/colab-badge.svg\" alt=\"Open In Colab\"/></a>"
      ]
    },
    {
      "cell_type": "markdown",
      "metadata": {
        "id": "82v8VxH4RfdB"
      },
      "source": [
        "### **⓪最初にランタイムのタイプをGPUに変更して下さい**"
      ]
    },
    {
      "cell_type": "markdown",
      "metadata": {
        "id": "-7WSRjWFPEvB"
      },
      "source": [
        "### **①text-generation-webui取得**\n"
      ]
    },
    {
      "cell_type": "code",
      "execution_count": null,
      "metadata": {
        "id": "YPIBpFqE1loZ"
      },
      "outputs": [],
      "source": [
        "!apt-get -y install -qq aria2\n",
        "\n",
        "!git clone https://github.com/oobabooga/text-generation-webui\n",
        "# JapaneseLargeLM用にモジュール取得（generation.pyを修正）\n",
        "!mv /content/text-generation-webui/modules/text_generation.py /content/text-generation-webui/modules/bak_text_generation.py\n",
        "!wget https://raw.githubusercontent.com/nekoniii3/text-generation-webui/main/JapaneseLargeLM/fix_modules/text_generation.py -O /content/text-generation-webui/modules/text_generation.py\n",
        "\n",
        "%cd /content/text-generation-webui\n",
        "!pip install -r requirements.txt"
      ]
    },
    {
      "cell_type": "markdown",
      "metadata": {
        "id": "8XFubQfcPV27"
      },
      "source": [
        "### **②Japanese-Large-LMモデルファイル取得**\n"
      ]
    },
    {
      "cell_type": "code",
      "source": [
        "!aria2c --console-log-level=error -c -x 16 -s 16 -k 1M https://huggingface.co/line-corporation/japanese-large-lm-3.6b/resolve/main/config.json -d /content/text-generation-webui/models/japanese-large-lm3.6B -o config.json\n",
        "!aria2c --console-log-level=error -c -x 16 -s 16 -k 1M https://huggingface.co/line-corporation/japanese-large-lm-3.6b/resolve/main/tokenizer_config.json -d /content/text-generation-webui/models/japanese-large-lm3.6B -o tokenizer_config.json\n",
        "!aria2c --console-log-level=error -c -x 16 -s 16 -k 1M https://huggingface.co/line-corporation/japanese-large-lm-3.6b/resolve/main/pytorch_model.bin -d /content/text-generation-webui/models/japanese-large-lm3.6B -o pytorch_model.bin\n",
        "!aria2c --console-log-level=error -c -x 16 -s 16 -k 1M https://huggingface.co/line-corporation/japanese-large-lm-3.6b/resolve/main/spiece.model -d /content/text-generation-webui/models/japanese-large-lm3.6B -o spiece.model\n"
      ],
      "metadata": {
        "id": "TCQ7sD_o14kP"
      },
      "execution_count": null,
      "outputs": []
    },
    {
      "cell_type": "markdown",
      "metadata": {
        "id": "I3Ov81Q_Pscj"
      },
      "source": [
        "### **③WebUI起動**\n"
      ]
    },
    {
      "cell_type": "code",
      "source": [
        "!python server.py --share --chat --model japanese-large-lm3.6B"
      ],
      "metadata": {
        "id": "m2mmYh2I2Uez"
      },
      "execution_count": null,
      "outputs": []
    }
  ]
}