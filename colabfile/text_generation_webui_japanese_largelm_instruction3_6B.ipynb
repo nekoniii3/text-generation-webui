{
  "nbformat": 4,
  "nbformat_minor": 0,
  "metadata": {
    "colab": {
      "provenance": [],
      "gpuType": "T4",
      "include_colab_link": true
    },
    "kernelspec": {
      "name": "python3",
      "display_name": "Python 3"
    },
    "language_info": {
      "name": "python"
    },
    "accelerator": "GPU"
  },
  "cells": [
    {
      "cell_type": "markdown",
      "metadata": {
        "id": "view-in-github",
        "colab_type": "text"
      },
      "source": [
        "<a href=\"https://colab.research.google.com/github/nekoniii3/text-generation-webui/blob/main/colabfile/text_generation_webui_japanese_largelm_instruction3_6B.ipynb\" target=\"_parent\"><img src=\"https://colab.research.google.com/assets/colab-badge.svg\" alt=\"Open In Colab\"/></a>"
      ]
    },
    {
      "cell_type": "markdown",
      "metadata": {
        "id": "82v8VxH4RfdB"
      },
      "source": [
        "### **⓪最初にランタイムのタイプをGPUに変更して下さい**"
      ]
    },
    {
      "cell_type": "markdown",
      "metadata": {
        "id": "-7WSRjWFPEvB"
      },
      "source": [
        "### **①text-generation-webui取得**\n"
      ]
    },
    {
      "cell_type": "code",
      "execution_count": null,
      "metadata": {
        "id": "YPIBpFqE1loZ"
      },
      "outputs": [],
      "source": [
        "!apt-get -y install -qq aria2\n",
        "\n",
        "!git clone https://github.com/oobabooga/text-generation-webui\n",
        "\n",
        "# JapaneseLargeLM用にモジュール取得（generation.pyを修正）\n",
        "!mv /content/text-generation-webui/modules/text_generation.py /content/text-generation-webui/modules/bak_text_generation.py\n",
        "!wget https://raw.githubusercontent.com/nekoniii3/text-generation-webui/main/JapaneseLargeLM/fix_modules/text_generation.py -O /content/text-generation-webui/modules/text_generation.py\n",
        "\n",
        "%cd /content/text-generation-webui\n",
        "!pip install -r requirements.txt"
      ]
    },
    {
      "cell_type": "markdown",
      "metadata": {
        "id": "8XFubQfcPV27"
      },
      "source": [
        "### **②JapaneseStableLM instructionモデルファイル取得**\n"
      ]
    },
    {
      "cell_type": "code",
      "source": [
        "!aria2c --console-log-level=error -c -x 16 -s 16 -k 1M https://huggingface.co/line-corporation/japanese-large-lm-3.6b-instruction-sft/resolve/main/config.json -d /content/text-generation-webui/models/japanese-large-lm3.6B -o config.json\n",
        "!aria2c --console-log-level=error -c -x 16 -s 16 -k 1M https://huggingface.co/line-corporation/japanese-large-lm-3.6b-instruction-sft/resolve/main/pytorch_model.bin -d /content/text-generation-webui/models/japanese-large-lm3.6B -o pytorch_model.bin\n",
        "!aria2c --console-log-level=error -c -x 16 -s 16 -k 1M https://huggingface.co/line-corporation/japanese-large-lm-3.6b-instruction-sft/resolve/main/spiece.model -d /content/text-generation-webui/models/japanese-large-lm3.6B -o spiece.model\n",
        "!aria2c --console-log-level=error -c -x 16 -s 16 -k 1M https://huggingface.co/line-corporation/japanese-large-lm-3.6b-instruction-sft/resolve/main/tokenizer_config.json -d /content/text-generation-webui/models/japanese-large-lm3.6B -o tokenizer_config.json\n",
        "!aria2c --console-log-level=error -c -x 16 -s 16 -k 1M https://huggingface.co/line-corporation/japanese-large-lm-3.6b-instruction-sft/resolve/main/special_tokens_map.json -d /content/text-generation-webui/models/japanese-large-lm3.6B -o special_tokens_map.json\n"
      ],
      "metadata": {
        "id": "TCQ7sD_o14kP"
      },
      "execution_count": null,
      "outputs": []
    },
    {
      "cell_type": "markdown",
      "metadata": {
        "id": "I3Ov81Q_Pscj"
      },
      "source": [
        "### **③WebUI起動**\n"
      ]
    },
    {
      "cell_type": "code",
      "source": [
        "!python server.py --share --chat --model japanese-large-lm3.6B"
      ],
      "metadata": {
        "id": "m2mmYh2I2Uez",
        "colab": {
          "base_uri": "https://localhost:8080/"
        },
        "outputId": "64fe59ef-adc1-4a0d-eb60-b2334b8c78ff"
      },
      "execution_count": 3,
      "outputs": [
        {
          "output_type": "stream",
          "name": "stdout",
          "text": [
            "2023-08-25 05:54:43 WARNING:\u001b[33mThe --chat flag has been deprecated and will be removed soon. Please remove that flag.\u001b[0m\n",
            "2023-08-25 05:54:43 WARNING:\u001b[33mThe gradio \"share link\" feature uses a proprietary executable to create a reverse tunnel. Use it with care.\u001b[0m\n",
            "2023-08-25 05:54:51.572168: W tensorflow/compiler/tf2tensorrt/utils/py_utils.cc:38] TF-TRT Warning: Could not find TensorRT\n",
            "2023-08-25 05:54:53 INFO:\u001b[32mLoading japanese-large-lm3.6B...\u001b[0m\n",
            "2023-08-25 05:56:00 INFO:\u001b[32mLoaded the model in 66.64 seconds.\n",
            "\u001b[0m\n",
            "2023-08-25 05:56:00 INFO:\u001b[32mLoading the extension \"gallery\"...\u001b[0m\n",
            "Running on local URL:  http://127.0.0.1:7860\n",
            "Running on public URL: https://0a652b2d839f8918b1.gradio.live\n",
            "\n",
            "This share link expires in 72 hours. For free permanent hosting and GPU upgrades, run `gradio deploy` from Terminal to deploy to Spaces (https://huggingface.co/spaces)\n",
            "Output generated in 9.35 seconds (5.13 tokens/s, 48 tokens, context 119, seed 952272138)\n",
            "Output generated in 6.65 seconds (9.17 tokens/s, 61 tokens, context 179, seed 646922878)\n",
            "Output generated in 6.93 seconds (9.82 tokens/s, 68 tokens, context 253, seed 868385733)\n",
            "Traceback (most recent call last):\n",
            "  File \"/content/text-generation-webui/server.py\", line 232, in <module>\n",
            "KeyboardInterrupt\n",
            "Killing tunnel 127.0.0.1:7860 <> https://0a652b2d839f8918b1.gradio.live\n",
            "^C\n"
          ]
        }
      ]
    }
  ]
}