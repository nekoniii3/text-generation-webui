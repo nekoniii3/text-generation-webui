{
  "nbformat": 4,
  "nbformat_minor": 0,
  "metadata": {
    "colab": {
      "provenance": [],
      "gpuType": "A100",
      "include_colab_link": true
    },
    "kernelspec": {
      "name": "python3",
      "display_name": "Python 3"
    },
    "language_info": {
      "name": "python"
    },
    "accelerator": "GPU"
  },
  "cells": [
    {
      "cell_type": "markdown",
      "metadata": {
        "id": "view-in-github",
        "colab_type": "text"
      },
      "source": [
        "<a href=\"https://colab.research.google.com/github/nekoniii3/text-generation-webui/blob/main/colabfile/text_generation_webui_StableLM.ipynb\" target=\"_parent\"><img src=\"https://colab.research.google.com/assets/colab-badge.svg\" alt=\"Open In Colab\"/></a>"
      ]
    },
    {
      "cell_type": "markdown",
      "metadata": {
        "id": "82v8VxH4RfdB"
      },
      "source": [
        "### **⓪最初にランタイムのタイプをGPUに変更して下さい**\n",
        "### **※StableLMはA100でないと動作しない可能性があります**"
      ]
    },
    {
      "cell_type": "markdown",
      "metadata": {
        "id": "-7WSRjWFPEvB"
      },
      "source": [
        "### **①text-generation-webui取得**\n"
      ]
    },
    {
      "cell_type": "code",
      "execution_count": null,
      "metadata": {
        "id": "YPIBpFqE1loZ"
      },
      "outputs": [],
      "source": [
        "!apt-get -y install -qq aria2\n",
        "\n",
        "!git clone https://github.com/oobabooga/text-generation-webui\n",
        "\n",
        "# JapaneseStableLM用にモジュール取得（tokenizerを修正）\n",
        "!mv /content/text-generation-webui/modules/models.py /content/text-generation-webui/modules/bak_models.py\n",
        "!wget https://raw.githubusercontent.com/nekoniii3/text-generation-webui/main/JapaneseStableLM/fix_modules/models.py -O /content/text-generation-webui/modules/models.py\n",
        "\n",
        "%cd /content/text-generation-webui\n",
        "!pip install -r requirements.txt"
      ]
    },
    {
      "cell_type": "markdown",
      "metadata": {
        "id": "8XFubQfcPV27"
      },
      "source": [
        "### **②JapaneseStableLMモデルファイル取得**\n"
      ]
    },
    {
      "cell_type": "code",
      "source": [
        "!aria2c --console-log-level=error -c -x 16 -s 16 -k 1M https://huggingface.co/stabilityai/japanese-stablelm-base-alpha-7b/resolve/main/requirements.txt -d /content/text-generation-webui/models/japanese-stablelm-base -o requirements.txt\n",
        "!aria2c --console-log-level=error -c -x 16 -s 16 -k 1M https://huggingface.co/stabilityai/japanese-stablelm-base-alpha-7b/resolve/main/config.json -d /content/text-generation-webui/models/japanese-stablelm-base -o config.json\n",
        "!aria2c --console-log-level=error -c -x 16 -s 16 -k 1M https://huggingface.co/stabilityai/japanese-stablelm-base-alpha-7b/resolve/main/configuration_japanese_stablelm_alpha.py -d /content/text-generation-webui/models/japanese-stablelm-base -o configuration_japanese_stablelm_alpha.py\n",
        "!aria2c --console-log-level=error -c -x 16 -s 16 -k 1M https://huggingface.co/stabilityai/japanese-stablelm-base-alpha-7b/resolve/main/generation_config.json -d /content/text-generation-webui/models/japanese-stablelm-base -o generation_config.json\n",
        "!aria2c --console-log-level=error -c -x 16 -s 16 -k 1M https://huggingface.co/stabilityai/japanese-stablelm-base-alpha-7b/resolve/main/modeling_japanese_stablelm_alpha.py -d /content/text-generation-webui/models/japanese-stablelm-base -o modeling_japanese_stablelm_alpha.py\n",
        "!aria2c --console-log-level=error -c -x 16 -s 16 -k 1M https://huggingface.co/stabilityai/japanese-stablelm-base-alpha-7b/resolve/main/pytorch_model-00001-of-00003.bin -d /content/text-generation-webui/models/japanese-stablelm-base -o pytorch_model-00001-of-00003.bin\n",
        "!aria2c --console-log-level=error -c -x 16 -s 16 -k 1M https://huggingface.co/stabilityai/japanese-stablelm-base-alpha-7b/resolve/main/pytorch_model-00002-of-00003.bin -d /content/text-generation-webui/models/japanese-stablelm-base -o pytorch_model-00002-of-00003.bin\n",
        "!aria2c --console-log-level=error -c -x 16 -s 16 -k 1M https://huggingface.co/stabilityai/japanese-stablelm-base-alpha-7b/resolve/main/pytorch_model-00003-of-00003.bin -d /content/text-generation-webui/models/japanese-stablelm-base -o pytorch_model-00003-of-00003.bin\n",
        "!aria2c --console-log-level=error -c -x 16 -s 16 -k 1M https://huggingface.co/stabilityai/japanese-stablelm-base-alpha-7b/resolve/main/pytorch_model.bin.index.json -d /content/text-generation-webui/models/japanese-stablelm-base -o pytorch_model.bin.index.json\n",
        "\n",
        "%cd /content/text-generation-webui/models/japanese-stablelm-base\n",
        "!pip install -r requirements.txt"
      ],
      "metadata": {
        "id": "TCQ7sD_o14kP"
      },
      "execution_count": null,
      "outputs": []
    },
    {
      "cell_type": "markdown",
      "metadata": {
        "id": "I3Ov81Q_Pscj"
      },
      "source": [
        "### **③WebUI起動**\n"
      ]
    },
    {
      "cell_type": "code",
      "source": [
        "%cd /content/text-generation-webui\n",
        "\n",
        "!python server.py --share --chat --trust-remote-code --model japanese-stablelm-base"
      ],
      "metadata": {
        "id": "m2mmYh2I2Uez"
      },
      "execution_count": null,
      "outputs": []
    }
  ]
}